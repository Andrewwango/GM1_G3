{
 "cells": [
  {
   "cell_type": "code",
   "execution_count": 1,
   "id": "romance-swedish",
   "metadata": {},
   "outputs": [],
   "source": [
    "import csv, math, pickle\n",
    "import numpy as np\n",
    "import pandas as pd\n",
    "from preprocessing import standardise, normalise\n",
    "from sklearn.naive_bayes import GaussianNB\n",
    "from sklearn.model_selection import train_test_split"
   ]
  },
  {
   "cell_type": "code",
   "execution_count": 2,
   "id": "diverse-emperor",
   "metadata": {},
   "outputs": [],
   "source": [
    "SAMPLE_LENGTH = 20"
   ]
  },
  {
   "cell_type": "markdown",
   "id": "studied-removal",
   "metadata": {},
   "source": [
    "## Import and prepare data"
   ]
  },
  {
   "cell_type": "code",
   "execution_count": 3,
   "id": "rotary-filing",
   "metadata": {},
   "outputs": [],
   "source": [
    "read_data1 = np.array(pd.read_csv('training_data1.csv', sep=',',header=None))\n",
    "read_data2 = np.array(pd.read_csv('training_data2.csv', sep=',',header=None))"
   ]
  },
  {
   "cell_type": "code",
   "execution_count": 4,
   "id": "agricultural-rally",
   "metadata": {},
   "outputs": [],
   "source": [
    "y1_raw = read_data1[:,0]\n",
    "X1_raw = read_data1[:,1:]\n",
    "y2_raw = read_data2[:,0]\n",
    "X2_raw = read_data2[:,1:]"
   ]
  },
  {
   "cell_type": "code",
   "execution_count": 5,
   "id": "homeless-lincoln",
   "metadata": {},
   "outputs": [],
   "source": [
    "X1_st = standardise(X1_raw, SAMPLE_LENGTH)\n",
    "X2_st = standardise(X2_raw, SAMPLE_LENGTH)\n",
    "X_st = np.vstack([X1_st, X2_st])\n",
    "y = np.hstack([y1_raw, y2_raw])"
   ]
  },
  {
   "cell_type": "code",
   "execution_count": 6,
   "id": "headed-bouquet",
   "metadata": {},
   "outputs": [],
   "source": [
    "X = normalise(X_st)"
   ]
  },
  {
   "cell_type": "code",
   "execution_count": 7,
   "id": "bearing-sector",
   "metadata": {},
   "outputs": [],
   "source": [
    "X_train, X_test, y_train, y_test = train_test_split(X, y, test_size=0.33, random_state=42, stratify=y)"
   ]
  },
  {
   "cell_type": "code",
   "execution_count": null,
   "id": "turkish-chase",
   "metadata": {},
   "outputs": [],
   "source": [
    "pickle.dump([X,y], open('event_classification_training_data', 'wb'))"
   ]
  },
  {
   "cell_type": "markdown",
   "id": "instrumental-convenience",
   "metadata": {},
   "source": [
    "## Train model"
   ]
  },
  {
   "cell_type": "code",
   "execution_count": 8,
   "id": "average-freight",
   "metadata": {},
   "outputs": [
    {
     "data": {
      "text/plain": [
       "GaussianNB()"
      ]
     },
     "execution_count": 8,
     "metadata": {},
     "output_type": "execute_result"
    }
   ],
   "source": [
    "gnb = GaussianNB()\n",
    "gnb.fit(X, y)"
   ]
  },
  {
   "cell_type": "markdown",
   "id": "inclusive-dating",
   "metadata": {},
   "source": [
    "### Test model"
   ]
  },
  {
   "cell_type": "code",
   "execution_count": 10,
   "id": "moderate-terrorist",
   "metadata": {},
   "outputs": [],
   "source": [
    "y_pred = gnb.predict(X)"
   ]
  },
  {
   "cell_type": "code",
   "execution_count": 11,
   "id": "metallic-healthcare",
   "metadata": {},
   "outputs": [
    {
     "data": {
      "text/plain": [
       "array([1., 1., 0., 0., 1., 0., 1., 0., 1., 0., 1., 0., 1., 0., 1., 0., 1.,\n",
       "       0., 1., 0., 1., 0., 1., 0., 1., 0., 1., 0., 1., 0., 1., 0., 1., 0.,\n",
       "       1., 0., 1., 0., 1., 0., 1., 2., 2., 2., 2., 2., 2., 2., 2., 2., 2.,\n",
       "       2., 2., 2., 2., 2., 2., 2., 2., 2., 2., 2., 2., 2., 2., 2., 2., 2.,\n",
       "       2., 2., 2., 2., 2., 2., 2., 2., 2., 2., 2., 2., 2., 2., 2., 2., 2.,\n",
       "       2., 2., 2., 2., 2., 2., 2., 2., 2., 2., 2., 2., 2., 2., 2., 2., 2.,\n",
       "       2., 2., 2., 2., 2., 2., 2., 2., 2., 2., 2., 2., 2., 2., 2., 2., 2.,\n",
       "       2., 2., 2., 2., 2., 2., 2., 2., 2., 2., 2., 2., 2., 2., 2., 2., 2.,\n",
       "       2., 2., 2., 2., 2., 2., 2., 2., 2., 2., 2., 2., 2., 2., 2., 2., 2.])"
      ]
     },
     "execution_count": 11,
     "metadata": {},
     "output_type": "execute_result"
    }
   ],
   "source": [
    "y_pred"
   ]
  },
  {
   "cell_type": "code",
   "execution_count": 12,
   "id": "varied-laser",
   "metadata": {},
   "outputs": [
    {
     "data": {
      "text/plain": [
       "array([1., 1., 0., 0., 1., 0., 1., 0., 1., 0., 1., 0., 1., 0., 1., 0., 1.,\n",
       "       0., 1., 0., 1., 0., 1., 0., 1., 0., 1., 0., 1., 0., 1., 0., 1., 0.,\n",
       "       1., 0., 1., 0., 1., 0., 1., 2., 2., 2., 2., 2., 2., 2., 2., 2., 2.,\n",
       "       2., 2., 2., 2., 2., 2., 2., 2., 2., 2., 2., 2., 2., 2., 2., 2., 2.,\n",
       "       2., 2., 2., 2., 2., 2., 2., 2., 2., 2., 2., 2., 2., 2., 2., 2., 2.,\n",
       "       2., 2., 2., 2., 2., 2., 2., 2., 2., 2., 2., 2., 2., 2., 2., 2., 2.,\n",
       "       2., 2., 2., 2., 2., 2., 2., 2., 2., 2., 2., 2., 2., 2., 2., 2., 2.,\n",
       "       2., 2., 2., 2., 2., 2., 2., 2., 2., 2., 2., 2., 2., 2., 2., 2., 2.,\n",
       "       2., 2., 2., 2., 2., 2., 2., 2., 2., 2., 2., 2., 2., 2., 2., 2., 2.])"
      ]
     },
     "execution_count": 12,
     "metadata": {},
     "output_type": "execute_result"
    }
   ],
   "source": [
    "y"
   ]
  },
  {
   "cell_type": "code",
   "execution_count": 13,
   "id": "apparent-amsterdam",
   "metadata": {},
   "outputs": [],
   "source": [
    "for i in range(len(y)):\n",
    "    if y[i]!=y_pred[i]:\n",
    "        print(i, y[i], y_pred[i], X[i,:])\n",
    "        #plt.plot(X[i,:])"
   ]
  }
 ],
 "metadata": {
  "kernelspec": {
   "display_name": "Python 3",
   "language": "python",
   "name": "python3"
  },
  "language_info": {
   "codemirror_mode": {
    "name": "ipython",
    "version": 3
   },
   "file_extension": ".py",
   "mimetype": "text/x-python",
   "name": "python",
   "nbconvert_exporter": "python",
   "pygments_lexer": "ipython3",
   "version": "3.8.7"
  }
 },
 "nbformat": 4,
 "nbformat_minor": 5
}

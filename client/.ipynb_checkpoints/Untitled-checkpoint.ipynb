{
 "cells": [
  {
   "cell_type": "code",
   "execution_count": 1,
   "id": "stupid-calibration",
   "metadata": {},
   "outputs": [],
   "source": [
    "import csv, math\n",
    "import numpy as np\n",
    "from matplotlib import pyplot as plt\n",
    "import pandas as pd\n",
    "from sklearn.naive_bayes import GaussianNB\n",
    "from sklearn.model_selection import train_test_split"
   ]
  },
  {
   "cell_type": "code",
   "execution_count": 4,
   "id": "studied-religious",
   "metadata": {},
   "outputs": [],
   "source": [
    "read_data1 = np.array(pd.read_csv('training_data1.csv', sep=',',header=None))\n",
    "read_data2 = np.array(pd.read_csv('training_data2.csv', sep=',',header=None))"
   ]
  },
  {
   "cell_type": "code",
   "execution_count": 5,
   "id": "second-enhancement",
   "metadata": {},
   "outputs": [],
   "source": [
    "y1_raw = read_data1[:,0]\n",
    "X1_raw = read_data1[:,1:]\n",
    "y2_raw = read_data2[:,0]\n",
    "X2_raw = read_data2[:,1:]"
   ]
  },
  {
   "cell_type": "code",
   "execution_count": 31,
   "id": "square-insertion",
   "metadata": {
    "tags": []
   },
   "outputs": [],
   "source": [
    "def standardise(arr):\n",
    "    LEN = 20\n",
    "    if arr.ndim == 1: arr = arr[None, :]\n",
    "    ret = np.zeros((arr.shape[0], LEN))\n",
    "    def split(x):\n",
    "        x = abs(x)\n",
    "        i = math.floor(x/2)\n",
    "        return i, x-i\n",
    "    for ai in range(arr.shape[0]):\n",
    "        a = arr[ai, :]\n",
    "        a = a[~np.isnan(a)]\n",
    "        i,j = split(LEN-len(a))\n",
    "        if len(a) < LEN:\n",
    "            ret[ai] = np.hstack([np.repeat(np.array([a[0]]), i), a, np.repeat(np.array([a[-1]]),j)])\n",
    "        elif len(a) == LEN:\n",
    "            ret[ai] = a\n",
    "        else:\n",
    "            ret[ai] = a[i:-j]\n",
    "    return ret"
   ]
  },
  {
   "cell_type": "code",
   "execution_count": 32,
   "id": "graduate-booking",
   "metadata": {},
   "outputs": [],
   "source": [
    "def normalise(X): return (X-X.min(axis=1)[:,None])/(X.max(axis=1)-X.min(axis=1))[:,None]"
   ]
  },
  {
   "cell_type": "code",
   "execution_count": 33,
   "id": "irish-convergence",
   "metadata": {},
   "outputs": [],
   "source": [
    "X1_st = standardise(X1_raw)\n",
    "X2_st = standardise(X2_raw)\n",
    "X_st = np.vstack([X1_st, X2_st])\n",
    "y = np.hstack([y1_raw, y2_raw])"
   ]
  },
  {
   "cell_type": "code",
   "execution_count": 34,
   "id": "impressed-shelf",
   "metadata": {},
   "outputs": [],
   "source": [
    "X = normalise(X_st)"
   ]
  },
  {
   "cell_type": "code",
   "execution_count": 35,
   "id": "genuine-pearl",
   "metadata": {},
   "outputs": [],
   "source": [
    "X_train, X_test, y_train, y_test = train_test_split(X, y, test_size=0.33, random_state=42, stratify=y)"
   ]
  },
  {
   "cell_type": "code",
   "execution_count": 50,
   "id": "handmade-mambo",
   "metadata": {},
   "outputs": [],
   "source": [
    "gnb = GaussianNB()\n",
    "y_pred = gnb.fit(X, y).predict(X)"
   ]
  },
  {
   "cell_type": "code",
   "execution_count": 51,
   "id": "neural-identification",
   "metadata": {},
   "outputs": [
    {
     "data": {
      "text/plain": [
       "array([1., 1., 0., 0., 1., 0., 1., 0., 1., 0., 1., 0., 1., 0., 1., 0., 1.,\n",
       "       0., 1., 0., 1., 0., 1., 0., 1., 0., 1., 0., 1., 0., 1., 0., 1., 0.,\n",
       "       1., 0., 1., 0., 1., 0., 1., 2., 2., 2., 2., 2., 2., 2., 2., 2., 2.,\n",
       "       2., 2., 2., 2., 2., 2., 2., 2., 2., 2., 2., 2., 2., 2., 2., 2., 2.,\n",
       "       2., 2., 2., 2., 2., 2., 2., 2., 2., 2., 2., 2., 2., 2., 2., 2., 2.,\n",
       "       2., 2., 2., 2., 2., 2., 2., 2., 2., 2., 2., 2., 2., 2., 2., 2., 2.,\n",
       "       2., 2., 2., 2., 2., 2., 2., 2., 2., 2., 2., 2., 2., 2., 2., 2., 2.,\n",
       "       2., 2., 2., 2., 2., 2., 2., 2., 2., 2., 2., 2., 2., 2., 2., 2., 2.,\n",
       "       2., 2., 2., 2., 2., 2., 2., 2., 2., 2., 2., 2., 2., 2., 2., 2., 2.])"
      ]
     },
     "execution_count": 51,
     "metadata": {},
     "output_type": "execute_result"
    }
   ],
   "source": [
    "y_pred"
   ]
  },
  {
   "cell_type": "code",
   "execution_count": 52,
   "id": "psychological-eight",
   "metadata": {},
   "outputs": [
    {
     "data": {
      "text/plain": [
       "array([1., 1., 0., 0., 1., 0., 1., 0., 1., 0., 1., 0., 1., 0., 1., 0., 1.,\n",
       "       0., 1., 0., 1., 0., 1., 0., 1., 0., 1., 0., 1., 0., 1., 0., 1., 0.,\n",
       "       1., 0., 1., 0., 1., 0., 1., 2., 2., 2., 2., 2., 2., 2., 2., 2., 2.,\n",
       "       2., 2., 2., 2., 2., 2., 2., 2., 2., 2., 2., 2., 2., 2., 2., 2., 2.,\n",
       "       2., 2., 2., 2., 2., 2., 2., 2., 2., 2., 2., 2., 2., 2., 2., 2., 2.,\n",
       "       2., 2., 2., 2., 2., 2., 2., 2., 2., 2., 2., 2., 2., 2., 2., 2., 2.,\n",
       "       2., 2., 2., 2., 2., 2., 2., 2., 2., 2., 2., 2., 2., 2., 2., 2., 2.,\n",
       "       2., 2., 2., 2., 2., 2., 2., 2., 2., 2., 2., 2., 2., 2., 2., 2., 2.,\n",
       "       2., 2., 2., 2., 2., 2., 2., 2., 2., 2., 2., 2., 2., 2., 2., 2., 2.])"
      ]
     },
     "execution_count": 52,
     "metadata": {},
     "output_type": "execute_result"
    }
   ],
   "source": [
    "y"
   ]
  },
  {
   "cell_type": "code",
   "execution_count": 53,
   "id": "legal-civilization",
   "metadata": {},
   "outputs": [],
   "source": [
    "for i in range(len(y)):\n",
    "    if y[i]!=y_pred[i]:\n",
    "        print(i, y[i], y_pred[i], X[i,:])\n",
    "        plt.plot(X[i,:])"
   ]
  },
  {
   "cell_type": "code",
   "execution_count": null,
   "id": "fancy-paragraph",
   "metadata": {},
   "outputs": [],
   "source": []
  },
  {
   "cell_type": "code",
   "execution_count": 28,
   "id": "joint-navigator",
   "metadata": {},
   "outputs": [],
   "source": [
    "t = np.array([1,2,np.nan,3])"
   ]
  },
  {
   "cell_type": "code",
   "execution_count": 29,
   "id": "given-square",
   "metadata": {},
   "outputs": [],
   "source": []
  },
  {
   "cell_type": "code",
   "execution_count": 30,
   "id": "intellectual-neighbor",
   "metadata": {},
   "outputs": [
    {
     "data": {
      "text/plain": [
       "array([1., 2., 3.])"
      ]
     },
     "execution_count": 30,
     "metadata": {},
     "output_type": "execute_result"
    }
   ],
   "source": [
    "t"
   ]
  },
  {
   "cell_type": "code",
   "execution_count": 90,
   "id": "modified-campus",
   "metadata": {},
   "outputs": [],
   "source": [
    "t = np.random.random((10,20))"
   ]
  },
  {
   "cell_type": "code",
   "execution_count": 92,
   "id": "possible-weapon",
   "metadata": {},
   "outputs": [
    {
     "data": {
      "text/plain": [
       "(10, 20)"
      ]
     },
     "execution_count": 92,
     "metadata": {},
     "output_type": "execute_result"
    }
   ],
   "source": [
    "t.shape"
   ]
  },
  {
   "cell_type": "code",
   "execution_count": 98,
   "id": "floating-outside",
   "metadata": {},
   "outputs": [
    {
     "data": {
      "text/plain": [
       "array([[0.66851724, 0.26423846, 0.1310015 , 0.19714609, 0.0850404 ,\n",
       "        0.43064276, 0.29603417, 0.        , 0.68894015, 1.        ,\n",
       "        0.14187284, 0.73877766, 0.48631701, 0.20239439, 0.8418129 ,\n",
       "        0.78147106, 0.10039666, 0.99465661, 0.97881678, 0.42559078],\n",
       "       [0.92963181, 0.89525912, 0.01783629, 0.        , 0.12737594,\n",
       "        0.36317016, 0.93460699, 0.16219433, 0.23984121, 0.68833762,\n",
       "        0.21132301, 0.48070504, 0.08470653, 0.73758177, 0.56375673,\n",
       "        0.58777382, 0.58944636, 0.75172728, 0.561173  , 1.        ],\n",
       "       [0.02874603, 0.94862438, 0.89895554, 0.04898315, 0.91759917,\n",
       "        0.19685367, 0.04980986, 0.        , 0.39650408, 0.74446298,\n",
       "        0.02800346, 0.09431298, 0.61218579, 0.24576333, 0.05912619,\n",
       "        1.        , 0.92738429, 0.34844947, 0.44043327, 0.6949531 ],\n",
       "       [0.72263421, 0.63891729, 1.        , 0.22824575, 0.34642106,\n",
       "        0.82035991, 0.00962449, 0.45442758, 0.        , 0.96080011,\n",
       "        0.35649909, 0.6998928 , 0.67736443, 0.14810484, 0.78901627,\n",
       "        0.3372796 , 0.67983762, 0.65153629, 0.19999519, 0.44526082],\n",
       "       [0.7685383 , 0.05198399, 0.0059001 , 0.36670225, 0.57986314,\n",
       "        0.42172557, 0.16490971, 0.69991583, 0.51770709, 0.62102454,\n",
       "        0.54615856, 0.62812137, 0.89381131, 0.3511858 , 0.20495264,\n",
       "        0.        , 0.7717028 , 0.28301297, 0.4866813 , 1.        ],\n",
       "       [0.01595595, 0.72685791, 0.04336302, 0.12606782, 0.03811045,\n",
       "        0.61630461, 0.        , 0.32065989, 0.25228382, 0.30513887,\n",
       "        0.84026425, 1.        , 0.20669198, 0.79064532, 0.19021654,\n",
       "        0.4755047 , 0.10306173, 0.55965842, 0.84755151, 0.40040111],\n",
       "       [0.11875177, 0.23839066, 0.68163198, 0.26487172, 0.48581254,\n",
       "        0.28406274, 0.21004962, 0.42039696, 0.52350806, 0.52829813,\n",
       "        0.63280188, 0.06776079, 0.12232635, 0.1412042 , 0.11855297,\n",
       "        1.        , 0.70273569, 0.50026246, 0.97659664, 0.        ],\n",
       "       [0.60992483, 0.43901976, 0.55201446, 0.12378173, 0.07385922,\n",
       "        0.06096751, 0.24854214, 1.        , 0.45512137, 0.63122545,\n",
       "        0.25778548, 0.42704505, 0.        , 0.047853  , 0.57494787,\n",
       "        0.89742455, 0.18403444, 0.31108772, 0.08380693, 0.37963949],\n",
       "       [0.7334247 , 0.7715374 , 0.31399738, 0.50787715, 1.        ,\n",
       "        0.19603601, 0.58787862, 0.24304261, 0.53984056, 0.69259148,\n",
       "        0.46125849, 0.69568704, 0.50190373, 0.29661055, 0.75455462,\n",
       "        0.12429709, 0.58815285, 0.        , 0.0161153 , 0.49479232],\n",
       "       [0.84082386, 0.19587649, 0.38497729, 0.15939335, 0.59928303,\n",
       "        0.49797503, 0.34315899, 0.47220452, 0.44393308, 0.75892743,\n",
       "        0.40790366, 0.        , 0.53364176, 0.5169937 , 0.8079503 ,\n",
       "        0.10895727, 1.        , 0.73392927, 0.49823129, 0.83954309]])"
      ]
     },
     "execution_count": 98,
     "metadata": {},
     "output_type": "execute_result"
    }
   ],
   "source": [
    "(t-t.min(axis=1)[:,None])/(t.max(axis=1)-t.min(axis=1))[:,None]"
   ]
  },
  {
   "cell_type": "code",
   "execution_count": null,
   "id": "political-insulin",
   "metadata": {},
   "outputs": [],
   "source": []
  }
 ],
 "metadata": {
  "kernelspec": {
   "display_name": "Python 3",
   "language": "python",
   "name": "python3"
  },
  "language_info": {
   "codemirror_mode": {
    "name": "ipython",
    "version": 3
   },
   "file_extension": ".py",
   "mimetype": "text/x-python",
   "name": "python",
   "nbconvert_exporter": "python",
   "pygments_lexer": "ipython3",
   "version": "3.8.7"
  }
 },
 "nbformat": 4,
 "nbformat_minor": 5
}

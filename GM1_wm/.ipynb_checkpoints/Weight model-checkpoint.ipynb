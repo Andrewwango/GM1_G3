{
 "cells": [
  {
   "cell_type": "code",
   "execution_count": 207,
   "metadata": {},
   "outputs": [],
   "source": [
    "import numpy as np\n",
    "import pandas as pd \n",
    "import datetime\n",
    "import matplotlib.pyplot as plt\n",
    "from datetime import timedelta\n",
    "from helper_functions import *\n",
    "\n",
    "\n",
    "\n"
   ]
  },
  {
   "cell_type": "markdown",
   "metadata": {},
   "source": [
    "sort out data format"
   ]
  },
  {
   "cell_type": "code",
   "execution_count": 208,
   "metadata": {},
   "outputs": [
    {
     "name": "stdout",
     "output_type": "stream",
     "text": [
      "[1, 40, 30, 60]\n",
      "         Date  Weight\n",
      "0  2021-01-23    94.8\n",
      "1  2021-01-24    94.6\n",
      "2  2021-01-25    94.8\n",
      "3  2021-01-26    94.8\n",
      "4  2021-01-27    94.9\n",
      "..        ...     ...\n",
      "65 2021-04-06    88.6\n",
      "66 2021-04-08    88.5\n",
      "67 2021-04-09    88.6\n",
      "68 2021-04-10    88.3\n",
      "69 2021-04-11    87.8\n",
      "\n",
      "[70 rows x 2 columns]\n",
      "         Date  Weight  Calories\n",
      "0  2021-01-23    94.8       NaN\n",
      "1  2021-01-24    94.6       NaN\n",
      "2  2021-01-25    94.8    1988.5\n",
      "3  2021-01-26    94.8    2403.8\n",
      "4  2021-01-27    94.9    2487.5\n",
      "..        ...     ...       ...\n",
      "91 2021-04-27     NaN    3259.2\n",
      "92 2021-04-28     NaN    3292.6\n",
      "93 2021-04-29     NaN    3350.4\n",
      "94 2021-04-30     NaN    2293.1\n",
      "95 2021-05-01     NaN    3186.4\n",
      "\n",
      "[96 rows x 3 columns]\n"
     ]
    }
   ],
   "source": [
    "df = pd.read_excel('Nutrition-Summary-2021-01-01-to-2021-05-01.xls')\n",
    "#df1 = df[['Date','Calories']]\n",
    "dfc =  df.groupby('Date')['Calories'].sum().reset_index()\n",
    "\n",
    "dfw = pd.read_excel('Measurement-Summary-2021-01-01-to-2021-05-01.xlsx')\n",
    "dfw1 = dfw\n",
    "vals = [1,40,30,60]\n",
    "print(vals)\n",
    "dfw = dfw.loc[range(70), :]\n",
    "print(dfw)\n",
    "dfm = pd.merge(dfw, dfc, how=\"outer\", on=[ \"Date\"])\n",
    "print(dfm)\n",
    "dfm = dfm.sort_values(by=\"Date\")\n",
    "dfm.to_excel('test.xlsx', index=False)\n",
    "\n",
    "#have formula\n",
    "BMR = 2000\n"
   ]
  },
  {
   "cell_type": "code",
   "execution_count": 209,
   "metadata": {},
   "outputs": [
    {
     "name": "stdout",
     "output_type": "stream",
     "text": [
      "[['2021-01-23T00:00:00.000000000']\n",
      " ['2021-01-24T00:00:00.000000000']\n",
      " ['2021-01-25T00:00:00.000000000']\n",
      " ['2021-01-26T00:00:00.000000000']\n",
      " ['2021-01-27T00:00:00.000000000']\n",
      " ['2021-01-28T00:00:00.000000000']\n",
      " ['2021-01-29T00:00:00.000000000']\n",
      " ['2021-01-30T00:00:00.000000000']\n",
      " ['2021-01-31T00:00:00.000000000']\n",
      " ['2021-02-01T00:00:00.000000000']\n",
      " ['2021-02-02T00:00:00.000000000']\n",
      " ['2021-02-03T00:00:00.000000000']\n",
      " ['2021-02-04T00:00:00.000000000']\n",
      " ['2021-02-05T00:00:00.000000000']\n",
      " ['2021-02-06T00:00:00.000000000']\n",
      " ['2021-02-07T00:00:00.000000000']\n",
      " ['2021-02-08T00:00:00.000000000']\n",
      " ['2021-02-09T00:00:00.000000000']\n",
      " ['2021-02-10T00:00:00.000000000']\n",
      " ['2021-02-11T00:00:00.000000000']\n",
      " ['2021-02-12T00:00:00.000000000']\n",
      " ['2021-02-13T00:00:00.000000000']\n",
      " ['2021-02-14T00:00:00.000000000']\n",
      " ['2021-02-15T00:00:00.000000000']\n",
      " ['2021-02-16T00:00:00.000000000']\n",
      " ['2021-02-17T00:00:00.000000000']\n",
      " ['2021-02-18T00:00:00.000000000']\n",
      " ['2021-02-19T00:00:00.000000000']\n",
      " ['2021-02-20T00:00:00.000000000']\n",
      " ['2021-02-22T00:00:00.000000000']\n",
      " ['2021-02-23T00:00:00.000000000']\n",
      " ['2021-02-24T00:00:00.000000000']\n",
      " ['2021-02-25T00:00:00.000000000']\n",
      " ['2021-02-26T00:00:00.000000000']\n",
      " ['2021-02-27T00:00:00.000000000']\n",
      " ['2021-02-28T00:00:00.000000000']\n",
      " ['2021-03-01T00:00:00.000000000']\n",
      " ['2021-03-02T00:00:00.000000000']\n",
      " ['2021-03-03T00:00:00.000000000']\n",
      " ['2021-03-04T00:00:00.000000000']\n",
      " ['2021-03-05T00:00:00.000000000']\n",
      " ['2021-03-06T00:00:00.000000000']\n",
      " ['2021-03-07T00:00:00.000000000']\n",
      " ['2021-03-08T00:00:00.000000000']\n",
      " ['2021-03-09T00:00:00.000000000']\n",
      " ['2021-03-10T00:00:00.000000000']\n",
      " ['2021-03-11T00:00:00.000000000']\n",
      " ['2021-03-12T00:00:00.000000000']\n",
      " ['2021-03-13T00:00:00.000000000']\n",
      " ['2021-03-14T00:00:00.000000000']\n",
      " ['2021-03-15T00:00:00.000000000']\n",
      " ['2021-03-17T00:00:00.000000000']\n",
      " ['2021-03-18T00:00:00.000000000']\n",
      " ['2021-03-19T00:00:00.000000000']\n",
      " ['2021-03-20T00:00:00.000000000']\n",
      " ['2021-03-21T00:00:00.000000000']\n",
      " ['2021-03-22T00:00:00.000000000']\n",
      " ['2021-03-23T00:00:00.000000000']\n",
      " ['2021-03-24T00:00:00.000000000']\n",
      " ['2021-03-25T00:00:00.000000000']\n",
      " ['2021-03-26T00:00:00.000000000']\n",
      " ['2021-03-27T00:00:00.000000000']\n",
      " ['2021-03-28T00:00:00.000000000']\n",
      " ['2021-03-29T00:00:00.000000000']\n",
      " ['2021-03-30T00:00:00.000000000']\n",
      " ['2021-04-01T00:00:00.000000000']\n",
      " ['2021-04-02T00:00:00.000000000']\n",
      " ['2021-04-03T00:00:00.000000000']\n",
      " ['2021-04-04T00:00:00.000000000']\n",
      " ['2021-04-05T00:00:00.000000000']\n",
      " ['2021-04-06T00:00:00.000000000']\n",
      " ['2021-04-07T00:00:00.000000000']\n",
      " ['2021-04-08T00:00:00.000000000']\n",
      " ['2021-04-09T00:00:00.000000000']\n",
      " ['2021-04-10T00:00:00.000000000']\n",
      " ['2021-04-11T00:00:00.000000000']\n",
      " ['2021-04-12T00:00:00.000000000']\n",
      " ['2021-04-13T00:00:00.000000000']\n",
      " ['2021-04-14T00:00:00.000000000']\n",
      " ['2021-04-15T00:00:00.000000000']\n",
      " ['2021-04-16T00:00:00.000000000']\n",
      " ['2021-04-17T00:00:00.000000000']\n",
      " ['2021-04-18T00:00:00.000000000']\n",
      " ['2021-04-19T00:00:00.000000000']\n",
      " ['2021-04-20T00:00:00.000000000']\n",
      " ['2021-04-21T00:00:00.000000000']\n",
      " ['2021-04-22T00:00:00.000000000']\n",
      " ['2021-04-23T00:00:00.000000000']\n",
      " ['2021-04-24T00:00:00.000000000']\n",
      " ['2021-04-25T00:00:00.000000000']\n",
      " ['2021-04-26T00:00:00.000000000']\n",
      " ['2021-04-27T00:00:00.000000000']\n",
      " ['2021-04-28T00:00:00.000000000']\n",
      " ['2021-04-29T00:00:00.000000000']\n",
      " ['2021-04-30T00:00:00.000000000']\n",
      " ['2021-05-01T00:00:00.000000000']]\n"
     ]
    },
    {
     "data": {
      "image/png": "[encoded data removed]",
      "text/plain": [
       "<Figure size 432x288 with 1 Axes>"
      ]
     },
     "metadata": {
      "needs_background": "light"
     },
     "output_type": "display_data"
    }
   ],
   "source": [
    "df5 = dfm[['Date','Calories']]\n",
    "#df.plot(x ='Date', y='Calories', kind = 'scatter')\n",
    "date = df5[['Date']].to_numpy()\n",
    "print(date)\n",
    "cal = df5[['Calories']].to_numpy()\n",
    "plt.scatter(date,cal )\n",
    "plt.show()\n",
    "\n"
   ]
  },
  {
   "cell_type": "code",
   "execution_count": 210,
   "metadata": {},
   "outputs": [],
   "source": [
    "# print(np.shape(cal))\n",
    "cal = cal.flatten()\n",
    "cal_no_nan = cal[np.logical_not(np.isnan(cal))]\n",
    "\n",
    "cal_diff = np.nan_to_num(cal, nan = np.mean(cal_no_nan))-BMR\n",
    "BMR_1 = cal_diff/7700\n",
    "\n",
    "# cal_w =np.cumsum(cal1)/7700\n",
    "# plt.scatter(date, cal_w)\n"
   ]
  },
  {
   "cell_type": "code",
   "execution_count": 211,
   "metadata": {},
   "outputs": [],
   "source": [
    "weight1 = dfm.sort_values(by=\"Date\")\n",
    "\n",
    "weight = weight1[['Weight']].to_numpy().reshape(np.shape(BMR_1))\n",
    "w2 = weight[np.logical_not(np.isnan(weight))]\n",
    "\n",
    "weight_n = weight - w2[0]*np.ones(weight.size)\n",
    "# BMR_w = weight_n - cal_w\n",
    "\n",
    "dl = pd.Series(BMR_w).last_valid_index()\n",
    "# print(dl)\n",
    "#  print(np.shape(date))\n",
    "\n",
    "# BMR_1 = np.array([x - BMR_w[i - 1] for i, x in enumerate(BMR_w)][1:])\n",
    "# BMR_1 = np.append(BMR_1,BMR_1.mean())\n",
    "\n",
    "\n",
    "# print(BMR_w)\n",
    "\n",
    "# plt.scatter(date,BMR_1)\n",
    "# plt.show()\n"
   ]
  },
  {
   "cell_type": "code",
   "execution_count": 213,
   "metadata": {},
   "outputs": [
    {
     "name": "stdout",
     "output_type": "stream",
     "text": [
      "(96, 1)\n",
      "(70,)\n",
      "(96,)\n",
      "(96,)\n",
      "(96,)\n",
      "[ 0  1  2  3  4  5  6  7  8  9 10 11 12 13 14 15 16 17 18 19 20 21 22 23\n",
      " 24 25 26 27 28 30 31 32 33 34 35 36 37 38 39 40 41 42 43 44 45 46 47 48\n",
      " 49 50 51 53 54 55 56 57 58 59 60 61 62 63 64 65 66 68 69 70 71 72 73 74\n",
      " 75 76 77 78 79 80 81 82 83 84 85 86 87 88 89 90 91 92 93 94 95 96 97 98]\n"
     ]
    },
    {
     "data": {
      "text/plain": [
       "dtype('int64')"
      ]
     },
     "execution_count": 213,
     "metadata": {},
     "output_type": "execute_result"
    }
   ],
   "source": [
    "date_days = dfm[['Date']]\n",
    "\n",
    "\n",
    "dfm1 = pd.merge(dfw1, dfc, how=\"outer\", on=[ \"Date\"])\n",
    "\n",
    "\n",
    "#print(dfw)\n",
    "rw = dfm1.sort_values(by=\"Date\")\n",
    "rw = rw[[\"Weight\"]]\n",
    "rw = rw.to_numpy()\n",
    "rw = rw.flatten()\n",
    "\n",
    "print(np.shape(date_days))\n",
    "\n",
    "\n",
    "\n",
    "\n",
    "delta_df = date_days - date_days.iloc[0]\n",
    "\n",
    "delta_days = delta_df.to_numpy()/(8.64e+13)\n",
    "delta1= delta_days.flatten().astype(int)\n",
    "\n",
    "rw= rw[:delta1.size]\n",
    "print(np.shape(BMR_w))\n",
    "print(np.shape(BMR_1))\n",
    "\n",
    "\n",
    "\n",
    "indices = np.logical_not(np.logical_or(np.isnan(BMR_1), np.isnan(delta1)))\n",
    "BMR_1 = BMR_1[indices]\n",
    "delta = delta1[indices]\n",
    "print(np.shape(delta))\n",
    "\n",
    "#indices1 = np.logical_not(np.logical_or(np.isnan(BMR_w), np.isnan(delta1)))\n",
    "#BMR_w = BMR_w[indices1]\n",
    "\n",
    "print(np.shape(delta))\n",
    "\n",
    "\n",
    "print(delta)\n",
    "delta.dtype"
   ]
  },
  {
   "cell_type": "code",
   "execution_count": 214,
   "metadata": {},
   "outputs": [
    {
     "name": "stdout",
     "output_type": "stream",
     "text": [
      "(96,)\n",
      "(96,)\n",
      "[-0.03260478  0.00161059]\n",
      "69\n"
     ]
    },
    {
     "ename": "ValueError",
     "evalue": "x and y must be the same size",
     "output_type": "error",
     "traceback": [
      "\u001b[0;31m---------------------------------------------------------------------------\u001b[0m",
      "\u001b[0;31mValueError\u001b[0m                                Traceback (most recent call last)",
      "\u001b[0;32m<ipython-input-214-2b45985a27d7>\u001b[0m in \u001b[0;36m<module>\u001b[0;34m\u001b[0m\n\u001b[1;32m     41\u001b[0m \u001b[0;34m\u001b[0m\u001b[0m\n\u001b[1;32m     42\u001b[0m \u001b[0mplt\u001b[0m\u001b[0;34m.\u001b[0m\u001b[0mfill_between\u001b[0m\u001b[0;34m(\u001b[0m\u001b[0mx_pred\u001b[0m\u001b[0;34m,\u001b[0m \u001b[0mmu_predf\u001b[0m \u001b[0;34m+\u001b[0m \u001b[0mstdev_f\u001b[0m \u001b[0;34m+\u001b[0m \u001b[0moff\u001b[0m\u001b[0;34m,\u001b[0m \u001b[0mmu_predf\u001b[0m \u001b[0;34m-\u001b[0m \u001b[0mstdev_f\u001b[0m \u001b[0;34m+\u001b[0m\u001b[0moff\u001b[0m\u001b[0;34m,\u001b[0m \u001b[0mfacecolor\u001b[0m \u001b[0;34m=\u001b[0m \u001b[0;34m'grey'\u001b[0m\u001b[0;34m,\u001b[0m \u001b[0malpha\u001b[0m \u001b[0;34m=\u001b[0m \u001b[0;36m0.5\u001b[0m\u001b[0;34m)\u001b[0m \u001b[0;31m# plot confidence intervals = +/- Var(y*)^0.5\u001b[0m\u001b[0;34m\u001b[0m\u001b[0;34m\u001b[0m\u001b[0m\n\u001b[0;32m---> 43\u001b[0;31m \u001b[0mplt\u001b[0m\u001b[0;34m.\u001b[0m\u001b[0mscatter\u001b[0m\u001b[0;34m(\u001b[0m\u001b[0mx_lin\u001b[0m\u001b[0;34m,\u001b[0m \u001b[0my_linf\u001b[0m\u001b[0;34m,\u001b[0m \u001b[0mmarker\u001b[0m \u001b[0;34m=\u001b[0m \u001b[0;34m'x'\u001b[0m\u001b[0;34m,\u001b[0m \u001b[0mcolor\u001b[0m \u001b[0;34m=\u001b[0m \u001b[0;34m'red'\u001b[0m\u001b[0;34m)\u001b[0m \u001b[0;31m# plot data\u001b[0m\u001b[0;34m\u001b[0m\u001b[0;34m\u001b[0m\u001b[0m\n\u001b[0m\u001b[1;32m     44\u001b[0m \u001b[0mplt\u001b[0m\u001b[0;34m.\u001b[0m\u001b[0mplot\u001b[0m\u001b[0;34m(\u001b[0m\u001b[0mx_pred\u001b[0m\u001b[0;34m,\u001b[0m \u001b[0mmu_predf\u001b[0m \u001b[0;34m+\u001b[0m \u001b[0moff\u001b[0m\u001b[0;34m,\u001b[0m \u001b[0mcolor\u001b[0m \u001b[0;34m=\u001b[0m \u001b[0;34m'black'\u001b[0m\u001b[0;34m)\u001b[0m \u001b[0;31m# plot mean(y*)\u001b[0m\u001b[0;34m\u001b[0m\u001b[0;34m\u001b[0m\u001b[0m\n\u001b[1;32m     45\u001b[0m \u001b[0ms\u001b[0m \u001b[0;34m=\u001b[0m \u001b[0;34m[\u001b[0m\u001b[0;36m0.1\u001b[0m \u001b[0;32mfor\u001b[0m \u001b[0mn\u001b[0m \u001b[0;32min\u001b[0m \u001b[0mrange\u001b[0m\u001b[0;34m(\u001b[0m\u001b[0mlen\u001b[0m\u001b[0;34m(\u001b[0m\u001b[0mdelta1\u001b[0m\u001b[0;34m)\u001b[0m\u001b[0;34m)\u001b[0m\u001b[0;34m]\u001b[0m\u001b[0;34m\u001b[0m\u001b[0;34m\u001b[0m\u001b[0m\n",
      "\u001b[0;32m/opt/anaconda3/lib/python3.8/site-packages/matplotlib/pyplot.py\u001b[0m in \u001b[0;36mscatter\u001b[0;34m(x, y, s, c, marker, cmap, norm, vmin, vmax, alpha, linewidths, verts, edgecolors, plotnonfinite, data, **kwargs)\u001b[0m\n\u001b[1;32m   2809\u001b[0m         \u001b[0mverts\u001b[0m\u001b[0;34m=\u001b[0m\u001b[0mcbook\u001b[0m\u001b[0;34m.\u001b[0m\u001b[0mdeprecation\u001b[0m\u001b[0;34m.\u001b[0m\u001b[0m_deprecated_parameter\u001b[0m\u001b[0;34m,\u001b[0m\u001b[0;34m\u001b[0m\u001b[0;34m\u001b[0m\u001b[0m\n\u001b[1;32m   2810\u001b[0m         edgecolors=None, *, plotnonfinite=False, data=None, **kwargs):\n\u001b[0;32m-> 2811\u001b[0;31m     __ret = gca().scatter(\n\u001b[0m\u001b[1;32m   2812\u001b[0m         \u001b[0mx\u001b[0m\u001b[0;34m,\u001b[0m \u001b[0my\u001b[0m\u001b[0;34m,\u001b[0m \u001b[0ms\u001b[0m\u001b[0;34m=\u001b[0m\u001b[0ms\u001b[0m\u001b[0;34m,\u001b[0m \u001b[0mc\u001b[0m\u001b[0;34m=\u001b[0m\u001b[0mc\u001b[0m\u001b[0;34m,\u001b[0m \u001b[0mmarker\u001b[0m\u001b[0;34m=\u001b[0m\u001b[0mmarker\u001b[0m\u001b[0;34m,\u001b[0m \u001b[0mcmap\u001b[0m\u001b[0;34m=\u001b[0m\u001b[0mcmap\u001b[0m\u001b[0;34m,\u001b[0m \u001b[0mnorm\u001b[0m\u001b[0;34m=\u001b[0m\u001b[0mnorm\u001b[0m\u001b[0;34m,\u001b[0m\u001b[0;34m\u001b[0m\u001b[0;34m\u001b[0m\u001b[0m\n\u001b[1;32m   2813\u001b[0m         \u001b[0mvmin\u001b[0m\u001b[0;34m=\u001b[0m\u001b[0mvmin\u001b[0m\u001b[0;34m,\u001b[0m \u001b[0mvmax\u001b[0m\u001b[0;34m=\u001b[0m\u001b[0mvmax\u001b[0m\u001b[0;34m,\u001b[0m \u001b[0malpha\u001b[0m\u001b[0;34m=\u001b[0m\u001b[0malpha\u001b[0m\u001b[0;34m,\u001b[0m \u001b[0mlinewidths\u001b[0m\u001b[0;34m=\u001b[0m\u001b[0mlinewidths\u001b[0m\u001b[0;34m,\u001b[0m\u001b[0;34m\u001b[0m\u001b[0;34m\u001b[0m\u001b[0m\n",
      "\u001b[0;32m/opt/anaconda3/lib/python3.8/site-packages/matplotlib/__init__.py\u001b[0m in \u001b[0;36minner\u001b[0;34m(ax, data, *args, **kwargs)\u001b[0m\n\u001b[1;32m   1563\u001b[0m     \u001b[0;32mdef\u001b[0m \u001b[0minner\u001b[0m\u001b[0;34m(\u001b[0m\u001b[0max\u001b[0m\u001b[0;34m,\u001b[0m \u001b[0;34m*\u001b[0m\u001b[0margs\u001b[0m\u001b[0;34m,\u001b[0m \u001b[0mdata\u001b[0m\u001b[0;34m=\u001b[0m\u001b[0;32mNone\u001b[0m\u001b[0;34m,\u001b[0m \u001b[0;34m**\u001b[0m\u001b[0mkwargs\u001b[0m\u001b[0;34m)\u001b[0m\u001b[0;34m:\u001b[0m\u001b[0;34m\u001b[0m\u001b[0;34m\u001b[0m\u001b[0m\n\u001b[1;32m   1564\u001b[0m         \u001b[0;32mif\u001b[0m \u001b[0mdata\u001b[0m \u001b[0;32mis\u001b[0m \u001b[0;32mNone\u001b[0m\u001b[0;34m:\u001b[0m\u001b[0;34m\u001b[0m\u001b[0;34m\u001b[0m\u001b[0m\n\u001b[0;32m-> 1565\u001b[0;31m             \u001b[0;32mreturn\u001b[0m \u001b[0mfunc\u001b[0m\u001b[0;34m(\u001b[0m\u001b[0max\u001b[0m\u001b[0;34m,\u001b[0m \u001b[0;34m*\u001b[0m\u001b[0mmap\u001b[0m\u001b[0;34m(\u001b[0m\u001b[0msanitize_sequence\u001b[0m\u001b[0;34m,\u001b[0m \u001b[0margs\u001b[0m\u001b[0;34m)\u001b[0m\u001b[0;34m,\u001b[0m \u001b[0;34m**\u001b[0m\u001b[0mkwargs\u001b[0m\u001b[0;34m)\u001b[0m\u001b[0;34m\u001b[0m\u001b[0;34m\u001b[0m\u001b[0m\n\u001b[0m\u001b[1;32m   1566\u001b[0m \u001b[0;34m\u001b[0m\u001b[0m\n\u001b[1;32m   1567\u001b[0m         \u001b[0mbound\u001b[0m \u001b[0;34m=\u001b[0m \u001b[0mnew_sig\u001b[0m\u001b[0;34m.\u001b[0m\u001b[0mbind\u001b[0m\u001b[0;34m(\u001b[0m\u001b[0max\u001b[0m\u001b[0;34m,\u001b[0m \u001b[0;34m*\u001b[0m\u001b[0margs\u001b[0m\u001b[0;34m,\u001b[0m \u001b[0;34m**\u001b[0m\u001b[0mkwargs\u001b[0m\u001b[0;34m)\u001b[0m\u001b[0;34m\u001b[0m\u001b[0;34m\u001b[0m\u001b[0m\n",
      "\u001b[0;32m/opt/anaconda3/lib/python3.8/site-packages/matplotlib/cbook/deprecation.py\u001b[0m in \u001b[0;36mwrapper\u001b[0;34m(*args, **kwargs)\u001b[0m\n\u001b[1;32m    356\u001b[0m                 \u001b[0;34mf\"%(removal)s.  If any parameter follows {name!r}, they \"\u001b[0m\u001b[0;34m\u001b[0m\u001b[0;34m\u001b[0m\u001b[0m\n\u001b[1;32m    357\u001b[0m                 f\"should be pass as keyword, not positionally.\")\n\u001b[0;32m--> 358\u001b[0;31m         \u001b[0;32mreturn\u001b[0m \u001b[0mfunc\u001b[0m\u001b[0;34m(\u001b[0m\u001b[0;34m*\u001b[0m\u001b[0margs\u001b[0m\u001b[0;34m,\u001b[0m \u001b[0;34m**\u001b[0m\u001b[0mkwargs\u001b[0m\u001b[0;34m)\u001b[0m\u001b[0;34m\u001b[0m\u001b[0;34m\u001b[0m\u001b[0m\n\u001b[0m\u001b[1;32m    359\u001b[0m \u001b[0;34m\u001b[0m\u001b[0m\n\u001b[1;32m    360\u001b[0m     \u001b[0;32mreturn\u001b[0m \u001b[0mwrapper\u001b[0m\u001b[0;34m\u001b[0m\u001b[0;34m\u001b[0m\u001b[0m\n",
      "\u001b[0;32m/opt/anaconda3/lib/python3.8/site-packages/matplotlib/axes/_axes.py\u001b[0m in \u001b[0;36mscatter\u001b[0;34m(self, x, y, s, c, marker, cmap, norm, vmin, vmax, alpha, linewidths, verts, edgecolors, plotnonfinite, **kwargs)\u001b[0m\n\u001b[1;32m   4389\u001b[0m         \u001b[0my\u001b[0m \u001b[0;34m=\u001b[0m \u001b[0mnp\u001b[0m\u001b[0;34m.\u001b[0m\u001b[0mma\u001b[0m\u001b[0;34m.\u001b[0m\u001b[0mravel\u001b[0m\u001b[0;34m(\u001b[0m\u001b[0my\u001b[0m\u001b[0;34m)\u001b[0m\u001b[0;34m\u001b[0m\u001b[0;34m\u001b[0m\u001b[0m\n\u001b[1;32m   4390\u001b[0m         \u001b[0;32mif\u001b[0m \u001b[0mx\u001b[0m\u001b[0;34m.\u001b[0m\u001b[0msize\u001b[0m \u001b[0;34m!=\u001b[0m \u001b[0my\u001b[0m\u001b[0;34m.\u001b[0m\u001b[0msize\u001b[0m\u001b[0;34m:\u001b[0m\u001b[0;34m\u001b[0m\u001b[0;34m\u001b[0m\u001b[0m\n\u001b[0;32m-> 4391\u001b[0;31m             \u001b[0;32mraise\u001b[0m \u001b[0mValueError\u001b[0m\u001b[0;34m(\u001b[0m\u001b[0;34m\"x and y must be the same size\"\u001b[0m\u001b[0;34m)\u001b[0m\u001b[0;34m\u001b[0m\u001b[0;34m\u001b[0m\u001b[0m\n\u001b[0m\u001b[1;32m   4392\u001b[0m \u001b[0;34m\u001b[0m\u001b[0m\n\u001b[1;32m   4393\u001b[0m         \u001b[0;32mif\u001b[0m \u001b[0ms\u001b[0m \u001b[0;32mis\u001b[0m \u001b[0;32mNone\u001b[0m\u001b[0;34m:\u001b[0m\u001b[0;34m\u001b[0m\u001b[0;34m\u001b[0m\u001b[0m\n",
      "\u001b[0;31mValueError\u001b[0m: x and y must be the same size"
     ]
    },
    {
     "data": {
      "image/png": "[encoded data removed]",
      "text/plain": [
       "<Figure size 432x288 with 1 Axes>"
      ]
     },
     "metadata": {
      "needs_background": "light"
     },
     "output_type": "display_data"
    }
   ],
   "source": [
    "\n",
    "\n",
    "x_lin = delta\n",
    "\n",
    "y_lin = BMR_1 # loading the linear regression dataset into numpy arrays\n",
    "\n",
    "print(np.shape(x_lin))\n",
    "print(np.shape(y_lin))\n",
    "\n",
    "var_w = 0.1\n",
    "var_y = 0.01\n",
    "#https://pubmed.ncbi.nlm.nih.gov/24021734/\n",
    "\n",
    "phi = np.array([[x_ ** d for d in range(0, 2)] for x_ in x_lin]) # X instantiated more elegantly here\n",
    "\n",
    "pre_w = 1/var_w * np.eye(2) # prior covariance matrix to include in MAP solution\n",
    "\n",
    "\n",
    "S = np.linalg.inv((phi.T).dot(phi) / var_y + pre_w) # posterior distribution covariance matrix\n",
    "mu = S.dot(phi.T).dot(y_lin)/var_y # MAP weights to use in mean(y*)\n",
    "\n",
    "print(mu)\n",
    "\n",
    "\n",
    "\n",
    "x_pred = delta1[dl:]\n",
    "print(dl)\n",
    "X_pred = np.array([[x_ ** d for d in range(0, 2)] for x_ in x_pred])\n",
    "\n",
    "mu_pred = X_pred.dot(mu) # calculate mean(y*)\n",
    "stdev_pred = (np.sum(X_pred.dot(S) * X_pred, axis = 1) + var_y) ** 0.5  # calculate Var(y*)^0.5\n",
    "\n",
    "#add on cal weight\n",
    "stdev_f = (np.sum(X_pred.dot(S) * X_pred, axis = 1) + var_y) * (x_pred - x_pred[0])\n",
    "\n",
    "\n",
    "mu_predf = mu_pred + cal_w[dl:] \n",
    "y_linf = w2 - w2[0]\n",
    "\n",
    "off = y_linf[-1] - mu_predf[0]\n",
    "off = 0\n",
    "rwd = rw - rw[0]\n",
    "\n",
    "plt.fill_between(x_pred, mu_predf + stdev_f + off, mu_predf - stdev_f +off, facecolor = 'grey', alpha = 0.5) # plot confidence intervals = +/- Var(y*)^0.5\n",
    "plt.scatter(x_lin, y_linf, marker = 'x', color = 'red') # plot data\n",
    "plt.plot(x_pred, mu_predf + off, color = 'black') # plot mean(y*)\n",
    "s = [0.1 for n in range(len(delta1))]\n",
    "plt.scatter(delta1, rwd,marker = 'x', color = 'blue', s=s)\n",
    "beautify_plot({\"title\":\"Bayesian regression predictive\", \"x\":\"$x$\", \"y\": '$y$'})\n",
    "fig = matplotlib.pyplot.gcf()\n",
    "fig.set_size_inches(18.5, 10.5)\n",
    "fig.set_dpi(100)\n",
    "plt.show()\n",
    "\n",
    "\n",
    "toggle_code()"
   ]
  },
  {
   "cell_type": "code",
   "execution_count": 215,
   "metadata": {},
   "outputs": [
    {
     "name": "stdout",
     "output_type": "stream",
     "text": [
      "(96,)\n",
      "(96,)\n",
      "[-0.03272329  0.00161239]\n",
      "69\n",
      "0.10199785803269283\n"
     ]
    },
    {
     "data": {
      "image/png": "[encoded data removed]",
      "text/plain": [
       "<Figure size 1850x1050 with 1 Axes>"
      ]
     },
     "metadata": {
      "needs_background": "light"
     },
     "output_type": "display_data"
    },
    {
     "data": {
      "text/html": [
       "\n",
       "    <script>\n",
       "      function get_new_label(butn, hide) {\n",
       "          var shown = $(butn).parents(\"div.cell.code_cell\").find('div.input').is(':visible');\n",
       "          var title = $(butn).val().substr($(butn).val().indexOf(\" \") + 1)\n",
       "          return ((shown) ? 'Show ' : 'Hide ') + title\n",
       "      }\n",
       "      function code_toggle(butn, hide) {\n",
       "        $(butn).val(get_new_label(butn,hide));\n",
       "        $(hide).slideToggle();\n",
       "      };\n",
       "    </script>\n",
       "    <input type=\"submit\" value='initiated' class='toggle_button'>\n",
       "    <script>\n",
       "        var hide_area = $(\".toggle_button[value='initiated']\").parents('div.cell').prevAll().addBack().slice(-1)\n",
       "        hide_area = $(hide_area).find(\"div.input\").add($(hide_area).filter(\"div.text_cell\"))\n",
       "        $(\".toggle_button[value='initiated']\").prop(\"hide_area\", hide_area)\n",
       "        $(\".toggle_button[value='initiated']\").click(function(){\n",
       "            code_toggle(this, $(this).prop(\"hide_area\"))\n",
       "        }); \n",
       "$(\".toggle_button[value='initiated']\").parents(\"div.output_area\").insertBefore($(\".toggle_button[value='initiated']\").parents(\"div.output\").find('div.output_area').first());\n",
       "    var shown = $(\".toggle_button[value='initiated']\").parents(\"div.cell.code_cell\").find('div.input').is(':visible');\n",
       "    var title = ((shown) ? 'Hide ' : 'Show ') + 'code'; \n",
       "     $(\".toggle_button[value='initiated']\").addClass(\"init_show\");\n",
       "            $(hide_area).addClass(\"init_hidden\");  $(\".toggle_button[value='initiated']\").val(title);\n",
       "    </script>"
      ],
      "text/plain": [
       "<IPython.core.display.HTML object>"
      ]
     },
     "metadata": {},
     "output_type": "display_data"
    }
   ],
   "source": [
    "\n",
    "\n",
    "x_lin = delta\n",
    "\n",
    "y_lin = BMR_1 # loading the linear regression dataset into numpy arrays\n",
    "\n",
    "print(np.shape(x_lin))\n",
    "print(np.shape(y_lin))\n",
    "\n",
    "var_w = 1\n",
    "var_y = 0.01\n",
    "#https://pubmed.ncbi.nlm.nih.gov/24021734/\n",
    "\n",
    "phi = np.array([[x_ ** d for d in range(0, 2)] for x_ in x_lin]) # X instantiated more elegantly here\n",
    "\n",
    "pre_w = 1/var_w * np.eye(2) # prior covariance matrix to include in MAP solution\n",
    "\n",
    "\n",
    "S = np.linalg.inv((phi.T).dot(phi) / var_y + pre_w) # posterior distribution covariance matrix\n",
    "mu = S.dot(phi.T).dot(y_lin)/var_y # MAP weights to use in mean(y*)\n",
    "\n",
    "print(mu)\n",
    "\n",
    "x_pred = delta1\n",
    "\n",
    "print(dl)\n",
    "X_pred = np.array([[x_ ** d for d in range(0, 2)] for x_ in x_pred])\n",
    "\n",
    "mu_pred = X_pred.dot(mu) # calculate mean(y*)\n",
    "stdev_pred = (np.sum(X_pred.dot(S) * X_pred, axis = 1) + var_y) ** 0.5  # calculate Var(y*)^0.5\n",
    "\n",
    "#add on cal weight\n",
    "#stdev_f = (stdev_pred[0] **2) * (x_pred - x_pred[0])\n",
    "\n",
    "\n",
    "print(stdev_pred[0])\n",
    "\n",
    "#off = y_linf[-1] - mu_predf[0]\n",
    "\n",
    "plt.fill_between(x_pred, mu_pred + stdev_pred , mu_pred - stdev_pred , facecolor = 'grey', alpha = 0.5) # plot confidence intervals = +/- Var(y*)^0.5\n",
    "plt.scatter(x_lin, y_lin, marker = 'x', color = 'red') # plot data\n",
    "plt.plot(x_pred, mu_pred , color = 'black') # plot mean(y*)\n",
    "beautify_plot({\"title\":\"Bayesian regression predictive\", \"x\":\"$x$\", \"y\": '$y$'})\n",
    "fig = matplotlib.pyplot.gcf()\n",
    "fig.set_size_inches(18.5, 10.5)\n",
    "fig.set_dpi(100)\n",
    "plt.show()\n",
    "\n",
    "\n",
    "toggle_code()"
   ]
  },
  {
   "cell_type": "code",
   "execution_count": null,
   "metadata": {},
   "outputs": [],
   "source": []
  },
  {
   "cell_type": "code",
   "execution_count": null,
   "metadata": {},
   "outputs": [],
   "source": []
  }
 ],
 "metadata": {
  "kernelspec": {
   "display_name": "Python 3",
   "language": "python",
   "name": "python3"
  },
  "language_info": {
   "codemirror_mode": {
    "name": "ipython",
    "version": 3
   },
   "file_extension": ".py",
   "mimetype": "text/x-python",
   "name": "python",
   "nbconvert_exporter": "python",
   "pygments_lexer": "ipython3",
   "version": "3.8.3"
  }
 },
 "nbformat": 4,
 "nbformat_minor": 4
}
